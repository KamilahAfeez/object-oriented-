{
  "nbformat": 4,
  "nbformat_minor": 0,
  "metadata": {
    "colab": {
      "provenance": [],
      "authorship_tag": "ABX9TyNIREIOP4+b4J4DclMgR5ne",
      "include_colab_link": true
    },
    "kernelspec": {
      "name": "python3",
      "display_name": "Python 3"
    },
    "language_info": {
      "name": "python"
    }
  },
  "cells": [
    {
      "cell_type": "markdown",
      "metadata": {
        "id": "view-in-github",
        "colab_type": "text"
      },
      "source": [
        "<a href=\"https://colab.research.google.com/github/KamilahAfeez/object-oriented-/blob/main/Untitled10.ipynb\" target=\"_parent\"><img src=\"https://colab.research.google.com/assets/colab-badge.svg\" alt=\"Open In Colab\"/></a>"
      ]
    },
    {
      "cell_type": "code",
      "execution_count": 3,
      "metadata": {
        "colab": {
          "base_uri": "https://localhost:8080/"
        },
        "id": "OGsHYWKMp9rA",
        "outputId": "84d4cd0f-3610-48ab-a544-03782726f93b"
      },
      "outputs": [
        {
          "output_type": "stream",
          "name": "stdout",
          "text": [
            "Hello world, am learning object oriented programming\n",
            "students's grade: 10\n"
          ]
        }
      ],
      "source": [
        "class Student:\n",
        "  def __init__(self,grade):\n",
        "    self.grade=grade\n",
        "  print(\"Hello world, am learning object oriented programming\")\n",
        "ob=Student(10)\n",
        "print(\"students's grade:\",ob.grade)\n"
      ]
    }
  ]
}